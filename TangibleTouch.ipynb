{
 "cells": [
  {
   "cell_type": "markdown",
   "metadata": {
    "collapsed": true
   },
   "source": [
    "# Mein Projekt\n",
    "\n",
    "Erkenntnisse\n",
    "-----\n",
    "- Abstand zwischen zwei Punkten im Raster ~48 (da dst(ox, origin) & dst(oy, origin) ~144)\n",
    "- Abstand zwischen zwei Punkten im Raster, diagonal = sqrt(48^2 + 48^2) ~ 68, mit Messwerten verifizierbar\n",
    "\n",
    "ToDo\n",
    "----\n",
    "- test for different touchcodes"
   ]
  },
  {
   "cell_type": "code",
   "execution_count": 105,
   "metadata": {
    "collapsed": false
   },
   "outputs": [
    {
     "name": "stdout",
     "output_type": "stream",
     "text": [
      "dst(origin,x): mean(144.94101688140265), max(148.00337833982033, min(140.28898745090436))\n",
      "dst(origin,y): mean(144.1623199552579), max(157.00318468107582, min(138.97481786280562))\n",
      "dst(ox,oy): mean(204.39613129984087), max(210.06903627141244, min(196.1479033790573))\n",
      "dst(origin,tc): mean(69.99344507785503), max(72.27724399837061, min(65.29931086925804))\n"
     ]
    }
   ],
   "source": [
    "import numpy as np\n",
    "import pandas as pd\n",
    "import matplotlib.pyplot as plt\n",
    "from scipy.spatial import ConvexHull\n",
    "from scipy.spatial import distance\n",
    "\n",
    "samples = {}\n",
    "samples[0b10000000] = [[(1643,614),(1450,649),(1555,663),(1568,731)],\n",
    "           [(577,629),(379,577),(471,631),(453,701)],\n",
    "           [(1486,68),(1638,213), (1581,119),(1628,69)],\n",
    "           [(1676,651),(1530,799),(1619,750),(1675,791)],\n",
    "           [(176,469), (320,324),(225,373),(175,324)],            \n",
    "           [(725,544),(860,697),(819,599),(869,557)],\n",
    "           [(346,509),(494,368),(399,415),(346,367)],\n",
    "           [(769,593),(750,792),(793,695),(865,701)],\n",
    "            [(269,202),(477,205),(375,164),(382,93)],\n",
    "            [(303,152), (379,577),(368,171),(368,285)]]\n",
    "\n",
    "def sample_to_ndarray(sample):\n",
    "    points = []\n",
    "    \n",
    "    for point in sample:\n",
    "        points.append(point[0])\n",
    "        points.append(point[1])\n",
    "    \n",
    "    return np.array(points)\n",
    "\n",
    "\n",
    "def render_sample(index):\n",
    "    df = pd.DataFrame(samples[index], columns=['x', 'y'])\n",
    "    print(df)\n",
    "    fig = df.plot.scatter(x='x', y='y', color='red', figsize=(15,15))\n",
    "\n",
    "    fig.set_xlim([0, 2000])\n",
    "    fig.set_ylim([0, 2000])\n",
    "\n",
    "    plt.gca().set_aspect('equal', adjustable='box')\n",
    "    plt.ylabel('some numbers')\n",
    "\n",
    "    plt.show()\n",
    "\n",
    "def convex_hull(sample):\n",
    "    # convert points of sample to ndarray\n",
    "    points = np.asarray(sample)\n",
    "    \n",
    "    # find the convex hull\n",
    "    hull = ConvexHull(points)    \n",
    "   \n",
    "    plt.figure(num=None, figsize=(18, 16), dpi=320, facecolor='w', edgecolor='r')\n",
    "    \n",
    "    plt.xlim([0,2000]) \n",
    "    plt.ylim([0,2000]) \n",
    "\n",
    "    # plot the original points\n",
    "    plt.plot(points[:, 0], points[:, 1], 'o')\n",
    "\n",
    "    # plot the convex hull around it\n",
    "    for simplex in hull.simplices:\n",
    "        plt.plot(points[simplex, 0], points[simplex, 1], 'r')\n",
    "\n",
    "    # adjustment to coordinate system\n",
    "    plt.gca().set_aspect('equal', adjustable='box')\n",
    "    \n",
    "    # display that crap\n",
    "    plt.show()\n",
    "\n",
    "\n",
    "def calculate_sample(sample):\n",
    "    oy = sample[0]\n",
    "    ox = sample[1]\n",
    "    tc = sample[2] # part of the code\n",
    "    origin = sample[3] # origin\n",
    "\n",
    "    print(sample)\n",
    "    print(\"dst(origin, ox) = {0}\".format(distance.euclidean(origin, ox)))\n",
    "    print(\"dst(origin, oy) = {0}\".format(distance.euclidean(origin, oy)))\n",
    "    print(\"dst(ox, oy) = {0}\".format(distance.euclidean(ox, oy)))\n",
    "    print(\"dst(tc, origin) = {0}\".format(distance.euclidean(tc, origin)))\n",
    "    \n",
    "    convex_hull(sample)\n",
    "    \n",
    "\n",
    "get_statistics_for_samp\n",
    "    \n",
    "dst_origin_ox = []\n",
    "dst_origin_oy = []\n",
    "dst_ox_oy = []\n",
    "dst_origin_tc = []\n",
    "\n",
    "for i in range(0,9): \n",
    "    sample = samples[0b10000000][i]\n",
    "    oy = sample[0]\n",
    "    ox = sample[1]\n",
    "    tc = sample[2] # part of the code\n",
    "    origin = sample[3] # origin\n",
    "    \n",
    "    dst_origin_ox.append(distance.euclidean(origin, ox))\n",
    "    dst_origin_oy.append(distance.euclidean(origin, oy))\n",
    "    dst_ox_oy.append(distance.euclidean(ox, oy))\n",
    "    dst_origin_tc.append(distance.euclidean(tc, origin))\n",
    "    \n",
    "    # print(\"dst(origin, ox) = {0}\".format(distance.euclidean(origin, ox)))\n",
    "    # print(\"dst(origin, oy) = {0}\".format(distance.euclidean(origin, oy)))\n",
    "    # print(\"dst(ox, oy) = {0}\".format(distance.euclidean(ox, oy)))\n",
    "    # print(\"dst(tc, origin) = {0}\".format(distance.euclidean(tc, origin)))\n",
    "    \n",
    "print(\"dst(origin,x): mean({0}), max({1}, min({2}))\".format(np.mean(dst_origin_ox), np.max(dst_origin_ox), np.min(dst_origin_ox)))\n",
    "print(\"dst(origin,y): mean({0}), max({1}, min({2}))\".format(np.mean(dst_origin_oy), np.max(dst_origin_oy), np.min(dst_origin_oy)))\n",
    "print(\"dst(ox,oy): mean({0}), max({1}, min({2}))\".format(np.mean(dst_ox_oy), np.max(dst_ox_oy), np.min(dst_ox_oy)))\n",
    "print(\"dst(origin,tc): mean({0}), max({1}, min({2}))\".format(np.mean(dst_origin_tc), np.max(dst_origin_tc), np.min(dst_origin_tc)))\n"
   ]
  },
  {
   "cell_type": "code",
   "execution_count": null,
   "metadata": {
    "collapsed": true
   },
   "outputs": [],
   "source": []
  },
  {
   "cell_type": "code",
   "execution_count": null,
   "metadata": {
    "collapsed": true
   },
   "outputs": [],
   "source": []
  }
 ],
 "metadata": {
  "kernelspec": {
   "display_name": "Python 3",
   "language": "python",
   "name": "python3"
  },
  "language_info": {
   "codemirror_mode": {
    "name": "ipython",
    "version": 3
   },
   "file_extension": ".py",
   "mimetype": "text/x-python",
   "name": "python",
   "nbconvert_exporter": "python",
   "pygments_lexer": "ipython3",
   "version": "3.5.2"
  }
 },
 "nbformat": 4,
 "nbformat_minor": 2
}
